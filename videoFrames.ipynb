{
 "cells": [
  {
   "cell_type": "markdown",
   "metadata": {},
   "source": [
    "This code is taken from stackOverflow "
   ]
  },
  {
   "cell_type": "code",
   "execution_count": 1,
   "metadata": {},
   "outputs": [
    {
     "name": "stdout",
     "output_type": "stream",
     "text": [
      "Number of frames:  549\n",
      "Converting video..\n",
      "\n",
      "Done extracting frames.\n",
      "549 frames extracted\n",
      "It took 1 seconds for conversion.\n"
     ]
    }
   ],
   "source": [
    "import cv2\n",
    "import time\n",
    "import os\n",
    "\n",
    "input_loc = '/home/sa39533/Research/VideoFrames/video10029.mp4'\n",
    "output_loc = '/home/sa39533/Research/VideoFrames/frames/'\n",
    "\n",
    "   \n",
    "try:\n",
    "    os.mkdir(output_loc)\n",
    "except OSError:\n",
    "    pass\n",
    "# Log the time\n",
    "time_start = time.time()\n",
    "\n",
    "# Start capturing the feed\n",
    "cap = cv2.VideoCapture(input_loc)\n",
    "\n",
    "# Find the number of frames\n",
    "video_length = int(cap.get(cv2.CAP_PROP_FRAME_COUNT)) - 1\n",
    "print (\"Number of frames: \", video_length)\n",
    "count = 0\n",
    "print (\"Converting video...\\n\")\n",
    "\n",
    "# Start converting the video to frames\n",
    "while cap.isOpened():\n",
    "    # Extract the frame\n",
    "    ret, frame = cap.read()\n",
    "    # Write the results back to output location.\n",
    "    cv2.imwrite(output_loc + \"/%#06d.jpg\" % (count+1), frame)\n",
    "    count = count + 1\n",
    "    # If there are no more frames left\n",
    "    if (count > (video_length-1)):\n",
    "        # Log the time again\n",
    "        time_end = time.time()\n",
    "        # Release the feed\n",
    "        cap.release()\n",
    "        # Print stats\n",
    "        print (\"Done extracting frames.\\n%d frames extracted\" % count)\n",
    "        print (\"It took %d seconds for conversion.\" % (time_end-time_start))\n",
    "        break\n",
    "\n"
   ]
  },
  {
   "cell_type": "code",
   "execution_count": null,
   "metadata": {},
   "outputs": [],
   "source": []
  }
 ],
 "metadata": {
  "kernelspec": {
   "display_name": "Python 3",
   "language": "python",
   "name": "python3"
  },
  "language_info": {
   "codemirror_mode": {
    "name": "ipython",
    "version": 3
   },
   "file_extension": ".py",
   "mimetype": "text/x-python",
   "name": "python",
   "nbconvert_exporter": "python",
   "pygments_lexer": "ipython3",
   "version": "3.7.3"
  }
 },
 "nbformat": 4,
 "nbformat_minor": 4
}
